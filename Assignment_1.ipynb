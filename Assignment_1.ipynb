{
  "nbformat": 4,
  "nbformat_minor": 0,
  "metadata": {
    "colab": {
      "provenance": [],
      "authorship_tag": "ABX9TyOk1ig4BXAp98lhLXtJOupU",
      "include_colab_link": true
    },
    "kernelspec": {
      "name": "python3",
      "display_name": "Python 3"
    },
    "language_info": {
      "name": "python"
    }
  },
  "cells": [
    {
      "cell_type": "markdown",
      "metadata": {
        "id": "view-in-github",
        "colab_type": "text"
      },
      "source": [
        "<a href=\"https://colab.research.google.com/github/nxm19440/ML_Assignment1/blob/main/Assignment_1.ipynb\" target=\"_parent\"><img src=\"https://colab.research.google.com/assets/colab-badge.svg\" alt=\"Open In Colab\"/></a>"
      ]
    },
    {
      "cell_type": "markdown",
      "source": [
        "# **Question-1**"
      ],
      "metadata": {
        "id": "ueUvyh6kN5pn"
      }
    },
    {
      "cell_type": "code",
      "source": [
        "from statistics import *"
      ],
      "metadata": {
        "id": "qH3yrqRQTW_z"
      },
      "execution_count": 1,
      "outputs": []
    },
    {
      "cell_type": "code",
      "execution_count": 3,
      "metadata": {
        "colab": {
          "base_uri": "https://localhost:8080/"
        },
        "id": "pgUFJmyUDDj-",
        "outputId": "e5a8838b-f553-4772-d7f0-e241a8d723d6"
      },
      "outputs": [
        {
          "output_type": "stream",
          "name": "stdout",
          "text": [
            "ages:  [19, 22, 19, 24, 20, 25, 26, 24, 25, 24]\n",
            "Sorted list of ages:  [19, 19, 20, 22, 24, 24, 24, 25, 25, 26]\n",
            "Maximum age is:  26\n",
            "Minimun age is:  19\n",
            "Updated list is:  [19, 19, 20, 22, 24, 24, 24, 25, 25, 26, 26, 19]\n",
            "Median age of the list is:  24.0\n",
            "Average age of the list is:  23\n",
            "Range of ages is:  7\n"
          ]
        }
      ],
      "source": [
        "#Given list is\n",
        "ages = [19,22,19,24,20,25,26,24,25,24]\n",
        "print('ages: ',ages)\n",
        "\n",
        "#Sorting the list and finding the min & max age\n",
        "ages.sort()\n",
        "print('Sorted list of ages: ',ages)           # Sorted list\n",
        "print('Maximum age is: ', max(ages))      # Max of list\n",
        "print('Minimun age is: ', min(ages))      # Min of list\n",
        "\n",
        "#Adding the minimum age and maximum age again to the list\n",
        "ages.append(max(ages))  # Adding the maximum age to the list.\n",
        "ages.append(min(ages))  # Adding the minimum age to the list.\n",
        "print('Updated list is: ', ages)\n",
        "    \n",
        "#Finding the median age\n",
        "print('Median age of the list is: ',median(ages))\n",
        "\n",
        "#Finding the average age\n",
        "#Defining a function \"average\" to find the average of a list.\n",
        "def average(lst):\n",
        "  return sum(lst)/len(lst)\n",
        "\n",
        "print('Average age of the list is: ', round(average(ages)))\n",
        "\n",
        "#Finding the range of ages (max - min)\n",
        "print('Range of ages is: ', max(ages) - min(ages))"
      ]
    },
    {
      "cell_type": "markdown",
      "source": [
        "# **Question-2**"
      ],
      "metadata": {
        "id": "3wQ9iWjW5X_O"
      }
    },
    {
      "cell_type": "code",
      "source": [
        "#Creating an empty dictionary named dog\n",
        "dog={}\n",
        "print('Defining a dog dictionary: ',dog)\n",
        "\n",
        "#Adding name, color, breed, legs, age to the dog dictionary\n",
        "dog.update({\"name\":\"\", \"color\":\"\", \"legs\":\"\", \"age\":\"\"})\n",
        "print('dog: ',dog)\n",
        "\n",
        "#Creating a student dictionary and add first_name, last_name, gender, age, marital status, skills, country, city and address as keys for the dictionary\n",
        "student={}\n",
        "\n",
        "student={\n",
        "    \"first_name\" : \"Naveen Kumar\",\n",
        "    \"last_name\": \"Mahendarker\",\n",
        "    \"gender\": \"Male\",\n",
        "    \"age\": 27,\n",
        "    \"marital_status\": \"Single\",\n",
        "    \"skills\": [\"Java\", \"Python\", \"AWS\"],\n",
        "    \"country\": \"United States\",\n",
        "    \"city\": \"Kansas\",\n",
        "    \"address\":\"Hill Creek Apartments\"\n",
        "}\n",
        "\n",
        "print('student: ', student)\n",
        "\n",
        "# Getting the length of the student dictionary\n",
        "print('length: ', len(student))\n",
        "\n",
        "#Getting the value of skills and check the data type, it should be a list\n",
        "print('skills:', student[\"skills\"])\n",
        "print('data type: ', type(student[\"skills\"]))\n",
        "\n",
        "#Modifying the skills values by adding one or two skills\n",
        "student[\"skills\"].append(\"SpringBoot\")\n",
        "student[\"skills\"].append(\"Hibernate\")\n",
        "print('student: ', student)\n",
        "\n",
        "#Getting the dictionary keys as a list\n",
        "print('keys: ', list(student.keys()))\n",
        "\n",
        "#Getting the dictionary values as a list\n",
        "print('values: ', list(student.values()))"
      ],
      "metadata": {
        "id": "zeA7ChnsJPlt",
        "colab": {
          "base_uri": "https://localhost:8080/"
        },
        "outputId": "0c1d4ceb-ac9c-4dd1-b4c8-14bc17ab8aef"
      },
      "execution_count": 15,
      "outputs": [
        {
          "output_type": "stream",
          "name": "stdout",
          "text": [
            "Defining a dog dictionary:  {}\n",
            "dog:  {'name': '', 'color': '', 'legs': '', 'age': ''}\n",
            "student:  {'first_name': 'Naveen Kumar', 'last_name': 'Mahendarker', 'gender': 'Male', 'age': 27, 'marital_status': 'Single', 'skills': ['Java', 'Python', 'AWS'], 'country': 'United States', 'city': 'Kansas', 'address': 'Hill Creek Apartments'}\n",
            "length:  9\n",
            "skills: ['Java', 'Python', 'AWS']\n",
            "data type:  <class 'list'>\n",
            "student:  {'first_name': 'Naveen Kumar', 'last_name': 'Mahendarker', 'gender': 'Male', 'age': 27, 'marital_status': 'Single', 'skills': ['Java', 'Python', 'AWS', 'SpringBoot', 'Hibernate'], 'country': 'United States', 'city': 'Kansas', 'address': 'Hill Creek Apartments'}\n",
            "keys:  ['first_name', 'last_name', 'gender', 'age', 'marital_status', 'skills', 'country', 'city', 'address']\n",
            "values:  ['Naveen Kumar', 'Mahendarker', 'Male', 27, 'Single', ['Java', 'Python', 'AWS', 'SpringBoot', 'Hibernate'], 'United States', 'Kansas', 'Hill Creek Apartments']\n"
          ]
        }
      ]
    },
    {
      "cell_type": "markdown",
      "source": [
        "# **Question-3**"
      ],
      "metadata": {
        "id": "B4XM2Nmp7J99"
      }
    },
    {
      "cell_type": "code",
      "source": [
        "#Creating a tuple containing names of your sisters and your brothers (imaginary siblings are fine)\n",
        "sisters=(\"Emma\", \"Angelina\", \"Meghan\")\n",
        "brothers=(\"Anthony\", \"Braun\", \"Charles\")\n",
        "print('sisters: ', sisters)\n",
        "print(type(sisters))\n",
        "print('brothers: ', brothers)\n",
        "print(type(brothers))\n",
        "\n",
        "#Joining brothers and sisters tuples and assign it to siblings\n",
        "siblings = sisters + brothers\n",
        "print('siblings: ', siblings)\n",
        "print(type(siblings))\n",
        "\n",
        "#How many siblings do you have?\n",
        "print('Total no. of siblings: ', len(siblings))\n",
        "\n",
        "#Modifying the siblings tuple and adding the name of father and mother and assigning it to family_member\n",
        "#As we cannot modify a tuple because of its immutable nature, we will first convert the siblings tuple into a list and then modify the list and convert the list back to tuple.\n",
        "siblings_list = list(siblings)\n",
        "print(siblings_list)\n",
        "siblings_list.append(\"Mike Anderson\")\n",
        "siblings_list.append(\"Elizabeth Hemsworth\")\n",
        "print(siblings_list)\n",
        "family_members=tuple(siblings_list)\n",
        "print('Family members: ', family_members)\n",
        "print(type(family_members))"
      ],
      "metadata": {
        "id": "akWRG5pY7S2H",
        "colab": {
          "base_uri": "https://localhost:8080/"
        },
        "outputId": "65208eab-00f3-4253-c206-521f1adeb08e"
      },
      "execution_count": 29,
      "outputs": [
        {
          "output_type": "stream",
          "name": "stdout",
          "text": [
            "sisters:  ('Emma', 'Angelina', 'Meghan')\n",
            "<class 'tuple'>\n",
            "brothers:  ('Anthony', 'Braun', 'Charles')\n",
            "<class 'tuple'>\n",
            "siblings:  ('Emma', 'Angelina', 'Meghan', 'Anthony', 'Braun', 'Charles')\n",
            "<class 'tuple'>\n",
            "Total no. of siblings:  6\n",
            "['Emma', 'Angelina', 'Meghan', 'Anthony', 'Braun', 'Charles']\n",
            "['Emma', 'Angelina', 'Meghan', 'Anthony', 'Braun', 'Charles', 'Mike Anderson', 'Elizabeth Hemsworth']\n",
            "Family members:  ('Emma', 'Angelina', 'Meghan', 'Anthony', 'Braun', 'Charles', 'Mike Anderson', 'Elizabeth Hemsworth')\n",
            "<class 'tuple'>\n"
          ]
        }
      ]
    },
    {
      "cell_type": "markdown",
      "source": [
        "# **Question-4**\n"
      ],
      "metadata": {
        "id": "ceC7Cb3DeH-m"
      }
    },
    {
      "cell_type": "code",
      "source": [
        "#Given\n",
        "it_companies = {\"Facebook\", \"Google\", \"Microsoft\", \"Apple\", \"IBM\", \"Oracle\", \"Amazon\"}\n",
        "A = {19,22,24,20,25,26}\n",
        "B = {19,22,20,25,26,24,28,27}\n",
        "age = [22,19,24,25,26,24,25,24]\n",
        "\n",
        "#Finding the length of the set it_companies\n",
        "print('length of it_companies: ' , len(it_companies))\n",
        "\n",
        "#Adding 'Twitter' to it_companies\n",
        "print('it_companies: ', it_companies)\n",
        "it_companies.add(\"Twitter\")\n",
        "print(\"Updated set of it_companies: \", it_companies)\n",
        "\n",
        "#Inserting multiple IT companies at once to the set it_companies\n",
        "it_companies.update([\"Netflix\", \"Adobe\"])\n",
        "print(\"After inserting multiple IT companies to the set it_companies: \", it_companies)\n",
        "\n",
        "#Removing one of the companies from the set it_companies\n",
        "it_companies.remove(\"IBM\")\n",
        "print(\"Afer removing one company to the set it_companies: \", it_companies)\n",
        "\n",
        "#What is the difference between remove and discard\n",
        "print(\"remove() --> It removes the value from the set and if the specified value doesn't exist then it throws an error.\")\n",
        "print(\"discard() --> It removes the value from the set but it will not throw an error if the specified value doesn't exist.\") \n",
        "\n",
        "#Joining A and B\n",
        "#In order to join two sets, we use union() method.\n",
        "A_union_B = A.union(B)\n",
        "print('A_union_B: ', A_union_B)\n",
        "print(type(A_union_B))\n",
        "\n",
        "#Finding A intersection B\n",
        "A_intersection_B = A.intersection(B)\n",
        "print('A_intersection_B: ', A_intersection_B)\n",
        "print(type(A_intersection_B))\n",
        "\n",
        "#Is A subset of B\n",
        "print(\"Is A subset of B: \", A.issubset(B))  # returns a boolean value \"True\", if A is subset of B\n",
        "\n",
        "#Are A and B disjoint sets\n",
        "print(\"Are A and B disjoint sets: \", A.isdisjoint(B))  # returns a boolean value if A & B are disjoint sets\n",
        "\n",
        "#Join A with B and B with A\n",
        "#Joining A with B\n",
        "print(\"Joining A with B: \", A.union(B))\n",
        "#Joining B with A\n",
        "print(\"Joining B with A: \",B.union(A))\n",
        "\n",
        "#What is the symmetric difference between A and B\n",
        "print(\"Symmetric difference between A & B: \", A.symmetric_difference(B))\n",
        "\n",
        "#Delete the sets completely\n",
        "#To delete the sets completely we use clear() method\n",
        "A.clear()\n",
        "B.clear()\n",
        "print(\"Deleting set A: \", A)\n",
        "print(\"Deleting set B: \", B)\n",
        "\n",
        "#Convert the ages to a set and compare the length of the list and the set\n",
        "print(\"age: \",age)\n",
        "print(type(age))\n",
        "age_set = set(age) #type conversion from list to set\n",
        "print(\"Converted list of ages to set of ages: \", age_set)\n",
        "print(\"age_set: \", age_set)\n",
        "print(type(age_set))\n",
        "print(\"Length of list of ages: \", len(age))\n",
        "print(\"Length of set of ages: \", len(age_set))\n",
        "print(\"Difference between len of age & len of age_set: \", len(age) - len(age_set))\n"
      ],
      "metadata": {
        "colab": {
          "base_uri": "https://localhost:8080/"
        },
        "id": "9Mgn4ce5eKID",
        "outputId": "ec766ce3-b90f-476f-ca21-9dab139a27c7"
      },
      "execution_count": 55,
      "outputs": [
        {
          "output_type": "stream",
          "name": "stdout",
          "text": [
            "length of it_companies:  7\n",
            "it_companies:  {'Facebook', 'Oracle', 'Apple', 'Microsoft', 'Amazon', 'Google', 'IBM'}\n",
            "Updated set of it_companies:  {'Facebook', 'Oracle', 'Apple', 'Microsoft', 'Twitter', 'Amazon', 'Google', 'IBM'}\n",
            "After inserting multiple IT companies to the set it_companies:  {'Facebook', 'Adobe', 'Oracle', 'Apple', 'Microsoft', 'Twitter', 'Netflix', 'Amazon', 'Google', 'IBM'}\n",
            "Afer removing one company to the set it_companies:  {'Facebook', 'Adobe', 'Oracle', 'Apple', 'Microsoft', 'Twitter', 'Netflix', 'Amazon', 'Google'}\n",
            "remove() --> It removes the value from the set and if the specified value doesn't exist then it throws an error.\n",
            "discard() --> It removes the value from the set but it will not throw an error if the specified value doesn't exist.\n",
            "A_union_B:  {19, 20, 22, 24, 25, 26, 27, 28}\n",
            "<class 'set'>\n",
            "A_intersection_B:  {19, 20, 22, 24, 25, 26}\n",
            "<class 'set'>\n",
            "Is A subset of B:  True\n",
            "Are A and B disjoint sets:  False\n",
            "Joining A with B:  {19, 20, 22, 24, 25, 26, 27, 28}\n",
            "Joining B with A:  {19, 20, 22, 24, 25, 26, 27, 28}\n",
            "Symmetric difference between A & B:  {27, 28}\n",
            "Deleting set A:  set()\n",
            "Deleting set B:  set()\n",
            "age:  [22, 19, 24, 25, 26, 24, 25, 24]\n",
            "<class 'list'>\n",
            "Converted list of ages to set of ages:  {19, 22, 24, 25, 26}\n",
            "age_set:  {19, 22, 24, 25, 26}\n",
            "<class 'set'>\n",
            "Length of list of ages:  8\n",
            "Length of set of ages:  5\n",
            "Difference between len of age & len of age_set:  3\n"
          ]
        }
      ]
    },
    {
      "cell_type": "markdown",
      "source": [
        "# **Question-5**\n"
      ],
      "metadata": {
        "id": "eayvMglWsqmH"
      }
    },
    {
      "cell_type": "code",
      "source": [
        "#Importing required packages\n",
        "from math import *"
      ],
      "metadata": {
        "id": "QsGNyuPhtn5p"
      },
      "execution_count": 59,
      "outputs": []
    },
    {
      "cell_type": "code",
      "source": [
        "#The radius of a circle is 30 meters.\n",
        "#5.1  Calculate the area of a circle and assign the value to a variable name of _area_of_circle_\n",
        "#Given radius r=30 \n",
        "r=30\n",
        "print(\"Given radius: \", r)\n",
        "#Formula for area of circle is pi*r**2       -- Here pi= 22/7\n",
        "_area_of_circle_= pi*r**2\n",
        "print(\"Area of Circle: \", round(_area_of_circle_))\n",
        "\n",
        "\n",
        "#5.2  Calculate the circumference of a circle and assign the value to a variable name of _circum_of_circle_\n",
        "#Formula for circumference of a circle is 2*pi*r\n",
        "_circum_of_circle_=2*pi*r\n",
        "print(\"Circumference of Circle: \", round(_circum_of_circle_))\n",
        "\n",
        "\n",
        "#5.3  Take radius as user input and calculate the area.\n",
        "# In order to take user input we use input() which takes dynamic input from the user\n",
        "radius=int(input(\"Enter radius: \"))\n",
        "_area_of_circle_=pi*(radius**2)  #Area of a circle\n",
        "print(\"Area of Circle using radius from the user input: \", round(_area_of_circle_))"
      ],
      "metadata": {
        "colab": {
          "base_uri": "https://localhost:8080/"
        },
        "id": "4bluYPd0sv60",
        "outputId": "8138edd8-5cd6-45dd-a6bf-5f2277be2668"
      },
      "execution_count": 67,
      "outputs": [
        {
          "output_type": "stream",
          "name": "stdout",
          "text": [
            "Given radius:  30\n",
            "Area of Circle:  2827\n",
            "Circumference of Circle:  188\n",
            "Enter radius: 30\n",
            "Area of Circle using radius from the user input:  2827\n"
          ]
        }
      ]
    },
    {
      "cell_type": "markdown",
      "source": [
        "# **Question-6**"
      ],
      "metadata": {
        "id": "j77xsrWtwNs5"
      }
    },
    {
      "cell_type": "code",
      "source": [
        "# “I am a teacher and I love to inspire and teach people”\n",
        "#How many unique words have been used in the sentence? Use the split methods and set to get the unique words.\n",
        "sentence=\"I am a teacher and I love to inspire and teach people\"\n",
        "words=set(sentence.split(\" \"))\n",
        "print(\"Unique words in a given sentence are: \", words)\n",
        "print(\"No. of unique words used in the sentence are: \", len(words))"
      ],
      "metadata": {
        "colab": {
          "base_uri": "https://localhost:8080/"
        },
        "id": "SHcw1nxAwSMB",
        "outputId": "92c77a87-3a89-4102-87c2-73e6e981e712"
      },
      "execution_count": 71,
      "outputs": [
        {
          "output_type": "stream",
          "name": "stdout",
          "text": [
            "Unique words in a given sentence are:  {'teacher', 'to', 'love', 'I', 'inspire', 'people', 'and', 'am', 'teach', 'a'}\n",
            "No. of unique words used in the sentence are:  10\n"
          ]
        }
      ]
    },
    {
      "cell_type": "markdown",
      "source": [
        "# **Question-7**"
      ],
      "metadata": {
        "id": "idLVCsse5Dc_"
      }
    },
    {
      "cell_type": "code",
      "source": [
        "#Use a tab escape sequence to get the following lines.\n",
        "# Name Age Country City \n",
        "# Asabeneh 250 Finland Helsinki\n",
        "print(\"Name\\tAge\\tCountry\\tCity\")\n",
        "print(\"Asabeneh\\t250\\tFinland\\tHelsinki\")"
      ],
      "metadata": {
        "colab": {
          "base_uri": "https://localhost:8080/"
        },
        "id": "sx-Oybh95GxW",
        "outputId": "a5ab385c-d689-4d75-9dfb-92a78b995bac"
      },
      "execution_count": 72,
      "outputs": [
        {
          "output_type": "stream",
          "name": "stdout",
          "text": [
            "Name\tAge\tCountry\tCity\n",
            "Asabeneh\t250\tFinland\tHelsinki\n"
          ]
        }
      ]
    },
    {
      "cell_type": "markdown",
      "source": [
        "# **Question-8**"
      ],
      "metadata": {
        "id": "tJvRw8sr6i_1"
      }
    },
    {
      "cell_type": "code",
      "source": [
        "#Use the string formatting method to display the following:\n",
        "radius = 10\n",
        "area = 3.14 * radius ** 2\n",
        "# “The area of a circle with radius 10 is 314 meters square.”\n",
        "\n",
        "print(\"The area of a circle with radius %d is %i meters square.\" %(radius, area))\n"
      ],
      "metadata": {
        "colab": {
          "base_uri": "https://localhost:8080/"
        },
        "id": "VVtzvZNx6jph",
        "outputId": "51dc1a7b-9727-47e5-c608-4ada6ace2cc9"
      },
      "execution_count": 74,
      "outputs": [
        {
          "output_type": "stream",
          "name": "stdout",
          "text": [
            "The area of a circle with radius 10 is 314 meters square.\n"
          ]
        }
      ]
    },
    {
      "cell_type": "markdown",
      "source": [
        "# **Question-9**\n"
      ],
      "metadata": {
        "id": "X78JjNBJ_BgR"
      }
    },
    {
      "cell_type": "code",
      "source": [
        "# Write a program, which reads weights (lbs.) of N students into a list and convert these weights to kilograms in a separate list using Loop. N: No of students (Read input from user)\n",
        "#Ex: L1: [150, 155, 145, 148]\n",
        "#Output: [68.03, 70.3, 65.77, 67.13]\n",
        "\n",
        "N=int(input(\"Enter No. of Students: \"))  # Reading input from the user\n",
        "#Creating empty list\n",
        "weighs_in_lbs=[]\n",
        "weighs_in_kg=[]\n",
        "\n",
        "for stud in range(N):\n",
        "  weighs_in_lbs.append(int(input(\"Enter weight of \"+str(stud)+\" \"))) #Reading input from the user and appending to the List weights_in_lbs\n",
        "  weighs_in_kg.append(round(weighs_in_lbs[stud]*0.453592,2))  #Converting lbs to kg using mathematical calculation\n",
        "print(\"weights in lbs: \", weighs_in_lbs)\n",
        "print(\"Weights in kg : \", weighs_in_kg) \n"
      ],
      "metadata": {
        "colab": {
          "base_uri": "https://localhost:8080/"
        },
        "id": "bgD_gHy7_IuR",
        "outputId": "0ce602f2-d54e-443c-df38-873112d51898"
      },
      "execution_count": 86,
      "outputs": [
        {
          "output_type": "stream",
          "name": "stdout",
          "text": [
            "Enter No. of Students: 4\n",
            "Enter weight of 0 10\n",
            "Enter weight of 1 20\n",
            "Enter weight of 2 30\n",
            "Enter weight of 3 40\n",
            "weights in lbs:  [10, 20, 30, 40]\n",
            "Weights in kg :  [4.54, 9.07, 13.61, 18.14]\n"
          ]
        }
      ]
    },
    {
      "cell_type": "markdown",
      "source": [
        "# **Question-10**\n"
      ],
      "metadata": {
        "id": "KtDXEvaPDAVa"
      }
    },
    {
      "cell_type": "code",
      "source": [
        "#Importing necessay modules\n",
        "import numpy as np\n",
        "import seaborn as sns\n",
        "import matplotlib.pyplot as plt\n",
        "from sklearn.model_selection import train_test_split\n",
        "from sklearn.neighbors import KNeighborsClassifier\n",
        "from sklearn.metrics import confusion_matrix, classification_report\n",
        "\n",
        "#Taking data\n",
        "X = np.array([1,2,3,6,6,7,10,11]).reshape(-1,1)\n",
        "print(X)\n",
        "Y = [0,0,1,1,1,0,0,0]\n",
        "\n",
        "#Splitting into Train set & Test set\n",
        "X_train, X_test, Y_train, Y_test = train_test_split(X, Y, test_size=0.25, random_state=26)\n",
        "\n",
        "#KNN Classification\n",
        "knnClassifier=KNeighborsClassifier(n_neighbors=3)\n",
        "knnClassifier.fit(X_train, Y_train)\n",
        "Y_pred=knnClassifier.predict(X_test)\n",
        "\n",
        "#Print Score\n",
        "print(knnClassifier.score(X_test, Y_test))\n",
        "\n",
        "#Plotting Confusion Matrix\n",
        "cm = confusion_matrix(Y_test, Y_pred)\n",
        "ax = plt.subplot()\n",
        "sns.heatmap(cm, annot=True, fmt='g', ax=ax) #annot= True to annotate cells, ftm='g' to disable scientific notation\n",
        "\n",
        "#labels, title & ticks\n",
        "ax.set_xlabel('Predictable labels')\n",
        "ax.set_ylabel('True labels')\n",
        "ax.set_title('Confuaion Matrix')\n",
        "ax.xaxis.set_ticklabels(['0','X'])\n",
        "ax.yaxis.set_ticklabels(['0','x'])\n",
        "\n",
        "tn, fp, fn, tp = cm.ravel()\n",
        "print(\"Accuracy \", (tp+tn)/(tp+fp+tn+fn))\n",
        "print(\"Sensitivity \", tp/(tp+fn))\n",
        "print(\"Specificity \", tn/(tn+fp))\n",
        "print(classification_report(Y_test, Y_pred, target_names=['0','x']))\n",
        "\n",
        "\n",
        "\n",
        "\n",
        "\n"
      ],
      "metadata": {
        "colab": {
          "base_uri": "https://localhost:8080/",
          "height": 659
        },
        "id": "YybkKN-NDFK2",
        "outputId": "87ff8340-5b1e-4f5a-ec04-bffa87da46ee"
      },
      "execution_count": 5,
      "outputs": [
        {
          "output_type": "stream",
          "name": "stdout",
          "text": [
            "[[ 1]\n",
            " [ 2]\n",
            " [ 3]\n",
            " [ 6]\n",
            " [ 6]\n",
            " [ 7]\n",
            " [10]\n",
            " [11]]\n",
            "1.0\n",
            "Accuracy  1.0\n",
            "Sensitivity  1.0\n",
            "Specificity  1.0\n",
            "              precision    recall  f1-score   support\n",
            "\n",
            "           0       1.00      1.00      1.00         1\n",
            "           x       1.00      1.00      1.00         1\n",
            "\n",
            "    accuracy                           1.00         2\n",
            "   macro avg       1.00      1.00      1.00         2\n",
            "weighted avg       1.00      1.00      1.00         2\n",
            "\n"
          ]
        },
        {
          "output_type": "display_data",
          "data": {
            "text/plain": [
              "<Figure size 432x288 with 2 Axes>"
            ],
            "image/png": "[encoded data removed]"
          },
          "metadata": {
            "needs_background": "light"
          }
        }
      ]
    }
  ]
}